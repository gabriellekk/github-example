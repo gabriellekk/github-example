{
 "cells": [
  {
   "cell_type": "markdown",
   "metadata": {},
   "source": [
    "# CAPSTONE PROJECT: BATTLE OF THE NEIGHBORHOODS PROPOSAL"
   ]
  },
  {
   "cell_type": "markdown",
   "metadata": {},
   "source": [
    "**Introduction:**"
   ]
  },
  {
   "cell_type": "markdown",
   "metadata": {},
   "source": [
    "The purpose of this project is to allow for families to make informed and smart choices upon moving to neighborhoods in Scarborough, Toronto. For families moving to this particular region in Canada, they would probably be uprooting their previous lives and would prefer to find a community with the facilities/aspects of their previous home such as cafes, schools, markets, healthcare facilities and transport. \n",
    "\n",
    "\n",
    "By creating a data frame and analysis based on factors such as venues and distance, people moving to scarborough would be able to pick an ideal neighborhood based on their needs and preferances. Such factors that the neighborhoods will be assesed on are house pricing, school ratings, crime rates, road connectivity, weather conditions, emergency responsiveness, water resource and recreational facilities. \n",
    "\n",
    "\n",
    "\n",
    "\n",
    "\n",
    "\n",
    "\n",
    "\n",
    "\n",
    "\n",
    "\n",
    "\n"
   ]
  },
  {
   "cell_type": "markdown",
   "metadata": {},
   "source": [
    "**Problem Statement:**"
   ]
  },
  {
   "cell_type": "markdown",
   "metadata": {},
   "source": [
    "The most major problem people face when moving to a new neighbourhood is that they might not be able to afford the housing and also for families with children, to find a good school for them to continue their education in. Therefore, this project helps to remedy that by:\n",
    "\n",
    "1. Creating a list of housing units in order\n",
    "2. Create a list of schools in temrs of location, fees, rating and reviews"
   ]
  },
  {
   "cell_type": "markdown",
   "metadata": {},
   "source": [
    "**About Scarborough Toronto:**"
   ]
  },
  {
   "cell_type": "markdown",
   "metadata": {},
   "source": [
    "Scarborough is a popular destination for new immigrants in Canada to reside. As a result, it is one of the most diverse and multicultural areas in the Greater Toronto Area, being home to various religious groups and places of worship. Although immigration has become a hot topic over the past few years with more governments seeking more restrictions on immigrants and refugees, the general trend of immigration into Canada has been one of on the rise."
   ]
  },
  {
   "cell_type": "markdown",
   "metadata": {},
   "source": [
    "**Foursquare API**"
   ]
  },
  {
   "cell_type": "markdown",
   "metadata": {},
   "source": [
    "Four-square API is used for its prime data gathering abilities as it has a large database. Foursquare API also enables us to perform location searches, sharing and details about businesses. Due to http request limitations, the venues per neighborhood parameter would be set to 100 and the radius parameter would be set to 500."
   ]
  },
  {
   "cell_type": "markdown",
   "metadata": {},
   "source": [
    "**Clustering:**"
   ]
  },
  {
   "cell_type": "markdown",
   "metadata": {},
   "source": [
    "To be able to compare 2 large cities such as New York and Toronto, the neighbourhoods would have to be segmented and clustered based on their similarities. For this project, I have decided to use the K-Means machine learning algorithm to sort through the data and determine the best neighborhood for each person querying the data. "
   ]
  },
  {
   "cell_type": "markdown",
   "metadata": {},
   "source": [
    "**Libraries Used:**"
   ]
  },
  {
   "cell_type": "markdown",
   "metadata": {},
   "source": [
    "Pandas: For creating and manipulating dataframes.\n",
    "\n",
    "Folium: Python visualization library used to visualize neighborhood clusters. \n",
    "\n",
    "Scikit Learn: Importing k-means clustering.\n",
    "\n",
    "JSON: Library to handle JSON files.\n",
    "\n",
    "XML: To separate data from presentation and XML stores data in plain text format.\n",
    "\n",
    "Geocoder: To retrieve Location Data.\n",
    "\n",
    "Beautiful Soup and Requests: To scrape webpages for data.\n",
    "\n",
    "Matplotlib: Python Plotting Module."
   ]
  },
  {
   "cell_type": "code",
   "execution_count": null,
   "metadata": {},
   "outputs": [],
   "source": []
  }
 ],
 "metadata": {
  "kernelspec": {
   "display_name": "Python",
   "language": "python",
   "name": "conda-env-python-py"
  },
  "language_info": {
   "codemirror_mode": {
    "name": "ipython",
    "version": 3
   },
   "file_extension": ".py",
   "mimetype": "text/x-python",
   "name": "python",
   "nbconvert_exporter": "python",
   "pygments_lexer": "ipython3",
   "version": "3.6.10"
  }
 },
 "nbformat": 4,
 "nbformat_minor": 4
}
